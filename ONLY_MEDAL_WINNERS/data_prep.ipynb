{
 "cells": [
  {
   "cell_type": "code",
   "execution_count": 7,
   "metadata": {},
   "outputs": [],
   "source": [
    "import pandas as pd\n",
    "import numpy as np\n",
    "import chardet"
   ]
  },
  {
   "cell_type": "code",
   "execution_count": 8,
   "metadata": {},
   "outputs": [
    {
     "name": "stdout",
     "output_type": "stream",
     "text": [
      "   Entry ID                                Name  Gender   Age            Team  \\\n",
      "0         0                           A Dijiang    Male  24.0           China   \n",
      "1         1                            A Lamusi    Male  23.0           China   \n",
      "2         2                 Gunnar Nielsen Aaby    Male  24.0         Denmark   \n",
      "3         3                Edgar Lindenau Aabye    Male  34.0  Denmark/Sweden   \n",
      "4        26  Cornelia \"Cor\" Aalten (-Strannood)  Female  18.0     Netherlands   \n",
      "\n",
      "   NOC  Year  Season         City       Sport                         Event  \\\n",
      "0  CHN  1992  Summer    Barcelona  Basketball   Basketball Men's Basketball   \n",
      "1  CHN  2012  Summer       London        Judo  Judo Men's Extra-Lightweight   \n",
      "2  DEN  1920  Summer    Antwerpen    Football       Football Men's Football   \n",
      "3  DEN  1900  Summer        Paris  Tug-Of-War   Tug-Of-War Men's Tug-Of-War   \n",
      "4  NED  1932  Summer  Los Angeles   Athletics  Athletics Women's 100 metres   \n",
      "\n",
      "  Medal  \n",
      "0   NaN  \n",
      "1   NaN  \n",
      "2   NaN  \n",
      "3  Gold  \n",
      "4   NaN  \n",
      "       City    Year     Sport Discipline           Event  \\\n",
      "0  Montreal  1976.0  Aquatics     Diving  3m springboard   \n",
      "1  Montreal  1976.0  Aquatics     Diving  3m springboard   \n",
      "2  Montreal  1976.0  Aquatics     Diving  3m springboard   \n",
      "3  Montreal  1976.0  Aquatics     Diving  3m springboard   \n",
      "4  Montreal  1976.0  Aquatics     Diving    10m platform   \n",
      "\n",
      "                    Athlete Gender Country_Code        Country Event_gender  \\\n",
      "0           KÖHLER, Christa  Women          GDR   East Germany            W   \n",
      "1       KOSENKOV, Aleksandr    Men          URS   Soviet Union            M   \n",
      "2      BOGGS, Philip George    Men          USA  United States            M   \n",
      "3  CAGNOTTO, Giorgio Franco    Men          ITA          Italy            M   \n",
      "4    WILSON, Deborah Keplar  Women          USA  United States            W   \n",
      "\n",
      "    Medal  \n",
      "0  Silver  \n",
      "1  Bronze  \n",
      "2    Gold  \n",
      "3  Silver  \n",
      "4  Bronze  \n"
     ]
    }
   ],
   "source": [
    "def convert_to_utf8(input_file, output_file):\n",
    "    with open(input_file, 'rb') as file:\n",
    "        content = file.read()\n",
    "    \n",
    "    import chardet\n",
    "    result = chardet.detect(content)\n",
    "    encoding = result['encoding']\n",
    "    \n",
    "    decoded_content = content.decode(encoding, errors='replace')\n",
    "    with open(output_file, 'w', encoding='utf-8') as file:\n",
    "        file.write(decoded_content)\n",
    "\n",
    "# Convert\n",
    "convert_to_utf8('all_athlete_games.csv', 'all_athlete_games_utf8.csv')"
   ]
  },
  {
   "cell_type": "code",
   "execution_count": 29,
   "metadata": {},
   "outputs": [
    {
     "name": "stdout",
     "output_type": "stream",
     "text": [
      "   Entry ID                                Name  Gender   Age            Team  \\\n",
      "0         0                           A Dijiang    Male  24.0           China   \n",
      "1         1                            A Lamusi    Male  23.0           China   \n",
      "2         2                 Gunnar Nielsen Aaby    Male  24.0         Denmark   \n",
      "3         3                Edgar Lindenau Aabye    Male  34.0  Denmark/Sweden   \n",
      "4        26  Cornelia \"Cor\" Aalten (-Strannood)  Female  18.0     Netherlands   \n",
      "\n",
      "   NOC  Year  Season         City       Sport                         Event  \\\n",
      "0  CHN  1992  Summer    Barcelona  Basketball   Basketball Men's Basketball   \n",
      "1  CHN  2012  Summer       London        Judo  Judo Men's Extra-Lightweight   \n",
      "2  DEN  1920  Summer    Antwerpen    Football       Football Men's Football   \n",
      "3  DEN  1900  Summer        Paris  Tug-Of-War   Tug-Of-War Men's Tug-Of-War   \n",
      "4  NED  1932  Summer  Los Angeles   Athletics  Athletics Women's 100 metres   \n",
      "\n",
      "  Medal  \n",
      "0   NaN  \n",
      "1   NaN  \n",
      "2   NaN  \n",
      "3  Gold  \n",
      "4   NaN  \n",
      "       City    Year     Sport Discipline           Event  \\\n",
      "0  Montreal  1976.0  Aquatics     Diving  3m springboard   \n",
      "1  Montreal  1976.0  Aquatics     Diving  3m springboard   \n",
      "2  Montreal  1976.0  Aquatics     Diving  3m springboard   \n",
      "3  Montreal  1976.0  Aquatics     Diving  3m springboard   \n",
      "4  Montreal  1976.0  Aquatics     Diving    10m platform   \n",
      "\n",
      "                    Athlete Gender Country_Code        Country Event_gender  \\\n",
      "0           KÖHLER, Christa  Women          GDR   East Germany            W   \n",
      "1       KOSENKOV, Aleksandr    Men          URS   Soviet Union            M   \n",
      "2      BOGGS, Philip George    Men          USA  United States            M   \n",
      "3  CAGNOTTO, Giorgio Franco    Men          ITA          Italy            M   \n",
      "4    WILSON, Deborah Keplar  Women          USA  United States            W   \n",
      "\n",
      "    Medal  \n",
      "0  Silver  \n",
      "1  Bronze  \n",
      "2    Gold  \n",
      "3  Silver  \n",
      "4  Bronze  \n"
     ]
    }
   ],
   "source": [
    "#Read\n",
    "df = pd.read_csv('DATA/all_athlete_games_utf8.csv')\n",
    "\n",
    "print(df.head())\n"
   ]
  },
  {
   "cell_type": "code",
   "execution_count": 30,
   "metadata": {},
   "outputs": [
    {
     "name": "stdout",
     "output_type": "stream",
     "text": [
      "Index(['Entry ID', 'Name', 'Gender', 'Age', 'Team', 'NOC', 'Year', 'Season',\n",
      "       'City', 'Sport', 'Event', 'Medal'],\n",
      "      dtype='object')\n"
     ]
    }
   ],
   "source": [
    "print(df.columns)"
   ]
  },
  {
   "cell_type": "code",
   "execution_count": 31,
   "metadata": {},
   "outputs": [
    {
     "name": "stdout",
     "output_type": "stream",
     "text": [
      "        Entry ID                                Name  Gender   Age  \\\n",
      "0              0                           A Dijiang    Male  24.0   \n",
      "1              1                            A Lamusi    Male  23.0   \n",
      "2              2                 Gunnar Nielsen Aaby    Male  24.0   \n",
      "4             26  Cornelia \"Cor\" Aalten (-Strannood)  Female  18.0   \n",
      "5             27  Cornelia \"Cor\" Aalten (-Strannood)  Female  18.0   \n",
      "...          ...                                 ...     ...   ...   \n",
      "286232    271111                          Andrzej ya    Male  29.0   \n",
      "286233    271112                            Piotr ya    Male  27.0   \n",
      "286234    271113                            Piotr ya    Male  27.0   \n",
      "286235    271114                  Tomasz Ireneusz ya    Male  30.0   \n",
      "286236    271115                  Tomasz Ireneusz ya    Male  34.0   \n",
      "\n",
      "               Team  NOC  Year  Season            City        Sport  \\\n",
      "0             China  CHN  1992  Summer       Barcelona   Basketball   \n",
      "1             China  CHN  2012  Summer          London         Judo   \n",
      "2           Denmark  DEN  1920  Summer       Antwerpen     Football   \n",
      "4       Netherlands  NED  1932  Summer     Los Angeles    Athletics   \n",
      "5       Netherlands  NED  1932  Summer     Los Angeles    Athletics   \n",
      "...             ...  ...   ...     ...             ...          ...   \n",
      "286232     Poland-1  POL  1976  Winter       Innsbruck         Luge   \n",
      "286233       Poland  POL  2014  Winter           Sochi  Ski Jumping   \n",
      "286234       Poland  POL  2014  Winter           Sochi  Ski Jumping   \n",
      "286235       Poland  POL  1998  Winter          Nagano    Bobsleigh   \n",
      "286236       Poland  POL  2002  Winter  Salt Lake City    Bobsleigh   \n",
      "\n",
      "                                           Event Medal  \n",
      "0                    Basketball Men's Basketball   NaN  \n",
      "1                   Judo Men's Extra-Lightweight   NaN  \n",
      "2                        Football Men's Football   NaN  \n",
      "4                   Athletics Women's 100 metres   NaN  \n",
      "5         Athletics Women's 4 x 100 metres Relay   NaN  \n",
      "...                                          ...   ...  \n",
      "286232                Luge Mixed (Men)'s Doubles   NaN  \n",
      "286233  Ski Jumping Men's Large Hill, Individual   NaN  \n",
      "286234        Ski Jumping Men's Large Hill, Team   NaN  \n",
      "286235                      Bobsleigh Men's Four   NaN  \n",
      "286236                      Bobsleigh Men's Four   NaN  \n",
      "\n",
      "[244737 rows x 12 columns]\n"
     ]
    }
   ],
   "source": [
    "rows_with_nulls = df[df.isnull().any(axis=1)]\n",
    "print(rows_with_nulls)"
   ]
  },
  {
   "cell_type": "code",
   "execution_count": 35,
   "metadata": {},
   "outputs": [
    {
     "name": "stdout",
     "output_type": "stream",
     "text": [
      "Resumen de valores nulos por columna (excepto 'medal'):\n",
      "Entry ID      0\n",
      "Name          0\n",
      "Gender        0\n",
      "Age         721\n",
      "Team          0\n",
      "NOC           0\n",
      "Year          0\n",
      "Season        0\n",
      "City          0\n",
      "Sport         0\n",
      "Event         0\n",
      "dtype: int64\n"
     ]
    }
   ],
   "source": [
    "df_excl_medal = df.drop(columns=['Medal'])\n",
    "\n",
    "\n",
    "print(\"Summary of null values by column (excluding 'Medal')\")\n",
    "nulls_summary = df_excl_medal.isnull().sum()\n",
    "print(nulls_summary)"
   ]
  },
  {
   "cell_type": "code",
   "execution_count": 33,
   "metadata": {},
   "outputs": [],
   "source": [
    "df = df[(df['Season'] != 'Winter') & (df['Medal'].notna())]"
   ]
  },
  {
   "cell_type": "code",
   "execution_count": 34,
   "metadata": {},
   "outputs": [
    {
     "name": "stdout",
     "output_type": "stream",
     "text": [
      "        Entry ID                     Name  Gender   Age            Team  NOC  \\\n",
      "3              3     Edgar Lindenau Aabye    Male  34.0  Denmark/Sweden  DEN   \n",
      "12            37     Arvo Ossian Aaltonen    Male  30.0         Finland  FIN   \n",
      "13            38     Arvo Ossian Aaltonen    Male  30.0         Finland  FIN   \n",
      "15            41  Paavo Johannes Aaltonen    Male  28.0         Finland  FIN   \n",
      "16            42  Paavo Johannes Aaltonen    Male  28.0         Finland  FIN   \n",
      "...          ...                      ...     ...   ...             ...  ...   \n",
      "237654     15102             ZOU Jingyuan    Male  23.0           China  CHN   \n",
      "237657     15105         ZUBIMENDI Martin    Male  22.0           Spain  ESP   \n",
      "237658     15106           ZUEV Alexander    Male  24.0          Russia  ROC   \n",
      "237664     15112         ZVEREV Alexander    Male  24.0         Germany  GER   \n",
      "237669     15117             ZYKOVA Yulia  Female  25.0          Russia  ROC   \n",
      "\n",
      "        Year  Season       City                Sport  \\\n",
      "3       1900  Summer      Paris           Tug-Of-War   \n",
      "12      1920  Summer  Antwerpen             Swimming   \n",
      "13      1920  Summer  Antwerpen             Swimming   \n",
      "15      1948  Summer     London           Gymnastics   \n",
      "16      1948  Summer     London           Gymnastics   \n",
      "...      ...     ...        ...                  ...   \n",
      "237654  2020  Summer      Tokyo  Artistic Gymnastics   \n",
      "237657  2020  Summer      Tokyo             Football   \n",
      "237658  2020  Summer      Tokyo       3x3 Basketball   \n",
      "237664  2020  Summer      Tokyo               Tennis   \n",
      "237669  2020  Summer      Tokyo             Shooting   \n",
      "\n",
      "                                         Event   Medal  \n",
      "3                  Tug-Of-War Men's Tug-Of-War    Gold  \n",
      "12      Swimming Men's 200 metres Breaststroke  Bronze  \n",
      "13      Swimming Men's 400 metres Breaststroke  Bronze  \n",
      "15      Gymnastics Men's Individual All-Around  Bronze  \n",
      "16            Gymnastics Men's Team All-Around    Gold  \n",
      "...                                        ...     ...  \n",
      "237654                              Men's Team  Bronze  \n",
      "237657                                Men Team  Silver  \n",
      "237658                                Men Team  Silver  \n",
      "237664                           Men's Singles    Gold  \n",
      "237669             50m Rifle 3 Positions Women  Silver  \n",
      "\n",
      "[36537 rows x 12 columns]\n"
     ]
    }
   ],
   "source": [
    "print(df)"
   ]
  },
  {
   "cell_type": "code",
   "execution_count": 36,
   "metadata": {},
   "outputs": [
    {
     "ename": "",
     "evalue": "",
     "output_type": "error",
     "traceback": [
      "\u001b[1;31mThe Kernel crashed while executing code in the current cell or a previous cell. \n",
      "\u001b[1;31mPlease review the code in the cell(s) to identify a possible cause of the failure. \n",
      "\u001b[1;31mClick <a href='https://aka.ms/vscodeJupyterKernelCrash'>here</a> for more info. \n",
      "\u001b[1;31mView Jupyter <a href='command:jupyter.viewOutput'>log</a> for further details."
     ]
    }
   ],
   "source": [
    "df.to_csv('filtered_athlete_games.csv', index=False)"
   ]
  }
 ],
 "metadata": {
  "kernelspec": {
   "display_name": "Python 3",
   "language": "python",
   "name": "python3"
  },
  "language_info": {
   "codemirror_mode": {
    "name": "ipython",
    "version": 3
   },
   "file_extension": ".py",
   "mimetype": "text/x-python",
   "name": "python",
   "nbconvert_exporter": "python",
   "pygments_lexer": "ipython3",
   "version": "3.10.11"
  }
 },
 "nbformat": 4,
 "nbformat_minor": 2
}
